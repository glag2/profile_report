{
 "cells": [
  {
   "cell_type": "markdown",
   "metadata": {},
   "source": [
    "# Load dataset"
   ]
  },
  {
   "cell_type": "code",
   "execution_count": 24,
   "metadata": {},
   "outputs": [],
   "source": [
    "import pandas as pd"
   ]
  },
  {
   "cell_type": "code",
   "execution_count": 25,
   "metadata": {},
   "outputs": [],
   "source": [
    "dataset = pd.read_csv('./data/titanic.csv')"
   ]
  },
  {
   "cell_type": "markdown",
   "metadata": {},
   "source": [
    "# sweetviz"
   ]
  },
  {
   "cell_type": "code",
   "execution_count": 26,
   "metadata": {},
   "outputs": [
    {
     "name": "stdout",
     "output_type": "stream",
     "text": [
      "Requirement already satisfied: sweetviz in c:\\users\\gabriele laguna\\anaconda3\\lib\\site-packages (2.3.1)\n",
      "Requirement already satisfied: pandas!=1.0.0,!=1.0.1,!=1.0.2,>=0.25.3 in c:\\users\\gabriele laguna\\anaconda3\\lib\\site-packages (from sweetviz) (2.0.3)\n",
      "Requirement already satisfied: numpy>=1.16.0 in c:\\users\\gabriele laguna\\anaconda3\\lib\\site-packages (from sweetviz) (1.24.3)\n",
      "Requirement already satisfied: matplotlib>=3.1.3 in c:\\users\\gabriele laguna\\anaconda3\\lib\\site-packages (from sweetviz) (3.7.2)\n",
      "Requirement already satisfied: tqdm>=4.43.0 in c:\\users\\gabriele laguna\\anaconda3\\lib\\site-packages (from sweetviz) (4.65.0)\n",
      "Requirement already satisfied: scipy>=1.3.2 in c:\\users\\gabriele laguna\\anaconda3\\lib\\site-packages (from sweetviz) (1.11.1)\n",
      "Requirement already satisfied: jinja2>=2.11.1 in c:\\users\\gabriele laguna\\anaconda3\\lib\\site-packages (from sweetviz) (3.1.2)\n",
      "Requirement already satisfied: importlib-resources>=1.2.0 in c:\\users\\gabriele laguna\\anaconda3\\lib\\site-packages (from sweetviz) (6.1.1)\n",
      "Requirement already satisfied: MarkupSafe>=2.0 in c:\\users\\gabriele laguna\\anaconda3\\lib\\site-packages (from jinja2>=2.11.1->sweetviz) (2.1.1)\n",
      "Requirement already satisfied: contourpy>=1.0.1 in c:\\users\\gabriele laguna\\anaconda3\\lib\\site-packages (from matplotlib>=3.1.3->sweetviz) (1.0.5)\n",
      "Requirement already satisfied: cycler>=0.10 in c:\\users\\gabriele laguna\\anaconda3\\lib\\site-packages (from matplotlib>=3.1.3->sweetviz) (0.11.0)\n",
      "Requirement already satisfied: fonttools>=4.22.0 in c:\\users\\gabriele laguna\\anaconda3\\lib\\site-packages (from matplotlib>=3.1.3->sweetviz) (4.25.0)\n",
      "Requirement already satisfied: kiwisolver>=1.0.1 in c:\\users\\gabriele laguna\\anaconda3\\lib\\site-packages (from matplotlib>=3.1.3->sweetviz) (1.4.4)\n",
      "Requirement already satisfied: packaging>=20.0 in c:\\users\\gabriele laguna\\anaconda3\\lib\\site-packages (from matplotlib>=3.1.3->sweetviz) (23.1)\n",
      "Requirement already satisfied: pillow>=6.2.0 in c:\\users\\gabriele laguna\\anaconda3\\lib\\site-packages (from matplotlib>=3.1.3->sweetviz) (9.4.0)\n",
      "Requirement already satisfied: pyparsing<3.1,>=2.3.1 in c:\\users\\gabriele laguna\\anaconda3\\lib\\site-packages (from matplotlib>=3.1.3->sweetviz) (3.0.9)\n",
      "Requirement already satisfied: python-dateutil>=2.7 in c:\\users\\gabriele laguna\\anaconda3\\lib\\site-packages (from matplotlib>=3.1.3->sweetviz) (2.8.2)\n",
      "Requirement already satisfied: pytz>=2020.1 in c:\\users\\gabriele laguna\\anaconda3\\lib\\site-packages (from pandas!=1.0.0,!=1.0.1,!=1.0.2,>=0.25.3->sweetviz) (2023.3.post1)\n",
      "Requirement already satisfied: tzdata>=2022.1 in c:\\users\\gabriele laguna\\anaconda3\\lib\\site-packages (from pandas!=1.0.0,!=1.0.1,!=1.0.2,>=0.25.3->sweetviz) (2023.3)\n",
      "Requirement already satisfied: colorama in c:\\users\\gabriele laguna\\anaconda3\\lib\\site-packages (from tqdm>=4.43.0->sweetviz) (0.4.6)\n",
      "Requirement already satisfied: six>=1.5 in c:\\users\\gabriele laguna\\anaconda3\\lib\\site-packages (from python-dateutil>=2.7->matplotlib>=3.1.3->sweetviz) (1.16.0)\n"
     ]
    }
   ],
   "source": [
    "!pip install sweetviz"
   ]
  },
  {
   "cell_type": "code",
   "execution_count": 27,
   "metadata": {},
   "outputs": [],
   "source": [
    "import sweetviz as sv"
   ]
  },
  {
   "cell_type": "code",
   "execution_count": 28,
   "metadata": {},
   "outputs": [
    {
     "data": {
      "application/vnd.jupyter.widget-view+json": {
       "model_id": "dce64ad9059b481ea448c39580216dd7",
       "version_major": 2,
       "version_minor": 0
      },
      "text/plain": [
       "                                             |          | [  0%]   00:00 -> (? left)"
      ]
     },
     "metadata": {},
     "output_type": "display_data"
    }
   ],
   "source": [
    "sweetviz_report = sv.analyze(dataset, target_feat='Survived')"
   ]
  },
  {
   "cell_type": "code",
   "execution_count": 29,
   "metadata": {},
   "outputs": [
    {
     "name": "stdout",
     "output_type": "stream",
     "text": [
      "Report ./data/titanic_report_sweet.html was generated.\n"
     ]
    }
   ],
   "source": [
    "sweetviz_report.show_html('./data/titanic_report_sweet.html', open_browser=False)"
   ]
  },
  {
   "cell_type": "markdown",
   "metadata": {},
   "source": [
    "# Ydata_report"
   ]
  },
  {
   "cell_type": "code",
   "execution_count": 30,
   "metadata": {},
   "outputs": [
    {
     "name": "stdout",
     "output_type": "stream",
     "text": [
      "Requirement already satisfied: ydata_profiling in c:\\users\\gabriele laguna\\anaconda3\\lib\\site-packages (4.6.2)\n",
      "Requirement already satisfied: scipy<1.12,>=1.4.1 in c:\\users\\gabriele laguna\\anaconda3\\lib\\site-packages (from ydata_profiling) (1.11.1)\n",
      "Requirement already satisfied: pandas!=1.4.0,<2.1,>1.1 in c:\\users\\gabriele laguna\\anaconda3\\lib\\site-packages (from ydata_profiling) (2.0.3)\n",
      "Requirement already satisfied: matplotlib<=3.7.3,>=3.2 in c:\\users\\gabriele laguna\\anaconda3\\lib\\site-packages (from ydata_profiling) (3.7.2)\n",
      "Requirement already satisfied: pydantic>=2 in c:\\users\\gabriele laguna\\anaconda3\\lib\\site-packages (from ydata_profiling) (2.5.2)\n",
      "Requirement already satisfied: PyYAML<6.1,>=5.0.0 in c:\\users\\gabriele laguna\\anaconda3\\lib\\site-packages (from ydata_profiling) (6.0)\n",
      "Requirement already satisfied: jinja2<3.2,>=2.11.1 in c:\\users\\gabriele laguna\\anaconda3\\lib\\site-packages (from ydata_profiling) (3.1.2)\n",
      "Requirement already satisfied: visions[type_image_path]==0.7.5 in c:\\users\\gabriele laguna\\anaconda3\\lib\\site-packages (from ydata_profiling) (0.7.5)\n",
      "Requirement already satisfied: numpy<1.26,>=1.16.0 in c:\\users\\gabriele laguna\\anaconda3\\lib\\site-packages (from ydata_profiling) (1.24.3)\n",
      "Requirement already satisfied: htmlmin==0.1.12 in c:\\users\\gabriele laguna\\anaconda3\\lib\\site-packages (from ydata_profiling) (0.1.12)\n",
      "Requirement already satisfied: phik<0.13,>=0.11.1 in c:\\users\\gabriele laguna\\anaconda3\\lib\\site-packages (from ydata_profiling) (0.12.3)\n",
      "Requirement already satisfied: requests<3,>=2.24.0 in c:\\users\\gabriele laguna\\anaconda3\\lib\\site-packages (from ydata_profiling) (2.31.0)\n",
      "Requirement already satisfied: tqdm<5,>=4.48.2 in c:\\users\\gabriele laguna\\anaconda3\\lib\\site-packages (from ydata_profiling) (4.65.0)\n",
      "Requirement already satisfied: seaborn<0.13,>=0.10.1 in c:\\users\\gabriele laguna\\anaconda3\\lib\\site-packages (from ydata_profiling) (0.12.2)\n",
      "Requirement already satisfied: multimethod<2,>=1.4 in c:\\users\\gabriele laguna\\anaconda3\\lib\\site-packages (from ydata_profiling) (1.10)\n",
      "Requirement already satisfied: statsmodels<1,>=0.13.2 in c:\\users\\gabriele laguna\\anaconda3\\lib\\site-packages (from ydata_profiling) (0.14.0)\n",
      "Requirement already satisfied: typeguard<5,>=4.1.2 in c:\\users\\gabriele laguna\\anaconda3\\lib\\site-packages (from ydata_profiling) (4.1.5)\n",
      "Requirement already satisfied: imagehash==4.3.1 in c:\\users\\gabriele laguna\\anaconda3\\lib\\site-packages (from ydata_profiling) (4.3.1)\n",
      "Requirement already satisfied: wordcloud>=1.9.1 in c:\\users\\gabriele laguna\\anaconda3\\lib\\site-packages (from ydata_profiling) (1.9.2)\n",
      "Requirement already satisfied: dacite>=1.8 in c:\\users\\gabriele laguna\\anaconda3\\lib\\site-packages (from ydata_profiling) (1.8.1)\n",
      "Requirement already satisfied: numba<0.59.0,>=0.56.0 in c:\\users\\gabriele laguna\\anaconda3\\lib\\site-packages (from ydata_profiling) (0.57.1)\n",
      "Requirement already satisfied: PyWavelets in c:\\users\\gabriele laguna\\anaconda3\\lib\\site-packages (from imagehash==4.3.1->ydata_profiling) (1.4.1)\n",
      "Requirement already satisfied: pillow in c:\\users\\gabriele laguna\\anaconda3\\lib\\site-packages (from imagehash==4.3.1->ydata_profiling) (9.4.0)\n",
      "Requirement already satisfied: attrs>=19.3.0 in c:\\users\\gabriele laguna\\anaconda3\\lib\\site-packages (from visions[type_image_path]==0.7.5->ydata_profiling) (22.1.0)\n",
      "Requirement already satisfied: networkx>=2.4 in c:\\users\\gabriele laguna\\anaconda3\\lib\\site-packages (from visions[type_image_path]==0.7.5->ydata_profiling) (3.1)\n",
      "Requirement already satisfied: tangled-up-in-unicode>=0.0.4 in c:\\users\\gabriele laguna\\anaconda3\\lib\\site-packages (from visions[type_image_path]==0.7.5->ydata_profiling) (0.2.0)\n",
      "Requirement already satisfied: MarkupSafe>=2.0 in c:\\users\\gabriele laguna\\anaconda3\\lib\\site-packages (from jinja2<3.2,>=2.11.1->ydata_profiling) (2.1.1)\n",
      "Requirement already satisfied: contourpy>=1.0.1 in c:\\users\\gabriele laguna\\anaconda3\\lib\\site-packages (from matplotlib<=3.7.3,>=3.2->ydata_profiling) (1.0.5)\n",
      "Requirement already satisfied: cycler>=0.10 in c:\\users\\gabriele laguna\\anaconda3\\lib\\site-packages (from matplotlib<=3.7.3,>=3.2->ydata_profiling) (0.11.0)\n",
      "Requirement already satisfied: fonttools>=4.22.0 in c:\\users\\gabriele laguna\\anaconda3\\lib\\site-packages (from matplotlib<=3.7.3,>=3.2->ydata_profiling) (4.25.0)\n",
      "Requirement already satisfied: kiwisolver>=1.0.1 in c:\\users\\gabriele laguna\\anaconda3\\lib\\site-packages (from matplotlib<=3.7.3,>=3.2->ydata_profiling) (1.4.4)\n",
      "Requirement already satisfied: packaging>=20.0 in c:\\users\\gabriele laguna\\anaconda3\\lib\\site-packages (from matplotlib<=3.7.3,>=3.2->ydata_profiling) (23.1)\n",
      "Requirement already satisfied: pyparsing<3.1,>=2.3.1 in c:\\users\\gabriele laguna\\anaconda3\\lib\\site-packages (from matplotlib<=3.7.3,>=3.2->ydata_profiling) (3.0.9)\n",
      "Requirement already satisfied: python-dateutil>=2.7 in c:\\users\\gabriele laguna\\anaconda3\\lib\\site-packages (from matplotlib<=3.7.3,>=3.2->ydata_profiling) (2.8.2)\n",
      "Requirement already satisfied: llvmlite<0.41,>=0.40.0dev0 in c:\\users\\gabriele laguna\\anaconda3\\lib\\site-packages (from numba<0.59.0,>=0.56.0->ydata_profiling) (0.40.0)\n",
      "Requirement already satisfied: pytz>=2020.1 in c:\\users\\gabriele laguna\\anaconda3\\lib\\site-packages (from pandas!=1.4.0,<2.1,>1.1->ydata_profiling) (2023.3.post1)\n",
      "Requirement already satisfied: tzdata>=2022.1 in c:\\users\\gabriele laguna\\anaconda3\\lib\\site-packages (from pandas!=1.4.0,<2.1,>1.1->ydata_profiling) (2023.3)\n",
      "Requirement already satisfied: joblib>=0.14.1 in c:\\users\\gabriele laguna\\anaconda3\\lib\\site-packages (from phik<0.13,>=0.11.1->ydata_profiling) (1.2.0)\n",
      "Requirement already satisfied: annotated-types>=0.4.0 in c:\\users\\gabriele laguna\\anaconda3\\lib\\site-packages (from pydantic>=2->ydata_profiling) (0.6.0)\n",
      "Requirement already satisfied: pydantic-core==2.14.5 in c:\\users\\gabriele laguna\\anaconda3\\lib\\site-packages (from pydantic>=2->ydata_profiling) (2.14.5)\n",
      "Requirement already satisfied: typing-extensions>=4.6.1 in c:\\users\\gabriele laguna\\anaconda3\\lib\\site-packages (from pydantic>=2->ydata_profiling) (4.7.1)\n",
      "Requirement already satisfied: charset-normalizer<4,>=2 in c:\\users\\gabriele laguna\\anaconda3\\lib\\site-packages (from requests<3,>=2.24.0->ydata_profiling) (2.0.4)\n",
      "Requirement already satisfied: idna<4,>=2.5 in c:\\users\\gabriele laguna\\anaconda3\\lib\\site-packages (from requests<3,>=2.24.0->ydata_profiling) (3.4)\n",
      "Requirement already satisfied: urllib3<3,>=1.21.1 in c:\\users\\gabriele laguna\\anaconda3\\lib\\site-packages (from requests<3,>=2.24.0->ydata_profiling) (1.26.16)\n",
      "Requirement already satisfied: certifi>=2017.4.17 in c:\\users\\gabriele laguna\\anaconda3\\lib\\site-packages (from requests<3,>=2.24.0->ydata_profiling) (2023.7.22)\n",
      "Requirement already satisfied: patsy>=0.5.2 in c:\\users\\gabriele laguna\\anaconda3\\lib\\site-packages (from statsmodels<1,>=0.13.2->ydata_profiling) (0.5.3)\n",
      "Requirement already satisfied: colorama in c:\\users\\gabriele laguna\\anaconda3\\lib\\site-packages (from tqdm<5,>=4.48.2->ydata_profiling) (0.4.6)\n",
      "Requirement already satisfied: six in c:\\users\\gabriele laguna\\anaconda3\\lib\\site-packages (from patsy>=0.5.2->statsmodels<1,>=0.13.2->ydata_profiling) (1.16.0)\n"
     ]
    }
   ],
   "source": [
    "!pip install ydata_profiling"
   ]
  },
  {
   "cell_type": "code",
   "execution_count": 31,
   "metadata": {},
   "outputs": [],
   "source": [
    "from ydata_profiling import ProfileReport"
   ]
  },
  {
   "cell_type": "code",
   "execution_count": 32,
   "metadata": {},
   "outputs": [],
   "source": [
    "profile = ProfileReport(dataset, title='Titanic Dataset Profiling Report', explorative=True)"
   ]
  },
  {
   "cell_type": "code",
   "execution_count": 33,
   "metadata": {},
   "outputs": [
    {
     "data": {
      "application/vnd.jupyter.widget-view+json": {
       "model_id": "59d71427ce2740a89c8d075eeda36b75",
       "version_major": 2,
       "version_minor": 0
      },
      "text/plain": [
       "Summarize dataset:   0%|          | 0/5 [00:00<?, ?it/s]"
      ]
     },
     "metadata": {},
     "output_type": "display_data"
    },
    {
     "data": {
      "application/vnd.jupyter.widget-view+json": {
       "model_id": "091f35441d7f4fd9abfd13a4c3852342",
       "version_major": 2,
       "version_minor": 0
      },
      "text/plain": [
       "Generate report structure:   0%|          | 0/1 [00:00<?, ?it/s]"
      ]
     },
     "metadata": {},
     "output_type": "display_data"
    },
    {
     "data": {
      "application/vnd.jupyter.widget-view+json": {
       "model_id": "8f8f36b341a04af390f974a89fb123f1",
       "version_major": 2,
       "version_minor": 0
      },
      "text/plain": [
       "Render HTML:   0%|          | 0/1 [00:00<?, ?it/s]"
      ]
     },
     "metadata": {},
     "output_type": "display_data"
    },
    {
     "data": {
      "application/vnd.jupyter.widget-view+json": {
       "model_id": "36271a4303114efdb8ba993c914043d8",
       "version_major": 2,
       "version_minor": 0
      },
      "text/plain": [
       "Export report to file:   0%|          | 0/1 [00:00<?, ?it/s]"
      ]
     },
     "metadata": {},
     "output_type": "display_data"
    }
   ],
   "source": [
    "profile.to_file('./data/titanic_report_ydata.html')"
   ]
  }
 ],
 "metadata": {
  "kernelspec": {
   "display_name": "python312_ml",
   "language": "python",
   "name": "python3"
  },
  "language_info": {
   "codemirror_mode": {
    "name": "ipython",
    "version": 3
   },
   "file_extension": ".py",
   "mimetype": "text/x-python",
   "name": "python",
   "nbconvert_exporter": "python",
   "pygments_lexer": "ipython3",
   "version": "3.11.5"
  }
 },
 "nbformat": 4,
 "nbformat_minor": 2
}
